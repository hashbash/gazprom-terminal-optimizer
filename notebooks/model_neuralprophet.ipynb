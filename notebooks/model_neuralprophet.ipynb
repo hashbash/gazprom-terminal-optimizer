{
 "cells": [
  {
   "cell_type": "markdown",
   "id": "14b3703d",
   "metadata": {},
   "source": [
    "В ноутубке производится подбор параметров для модели Neural Prophet и запускается предскзание на каждый терминал\n",
    "\n",
    "requirements:\n",
    "* pandas\n",
    "* numpy\n",
    "* neuralprophet\n",
    "* sklearn\n",
    "* math"
   ]
  },
  {
   "cell_type": "code",
   "execution_count": 1,
   "id": "16de0034",
   "metadata": {
    "ExecuteTime": {
     "end_time": "2023-05-28T16:25:52.379666Z",
     "start_time": "2023-05-28T16:25:48.906292Z"
    },
    "scrolled": true
   },
   "outputs": [],
   "source": [
    "import pandas as pd\n",
    "import numpy as np\n",
    "from neuralprophet import NeuralProphet, set_log_level, set_random_seed\n",
    "\n",
    "from sklearn.metrics import mean_absolute_error, mean_absolute_percentage_error, mean_squared_error\n",
    "from math import sqrt"
   ]
  },
  {
   "cell_type": "markdown",
   "id": "8a00f2d2",
   "metadata": {},
   "source": [
    "## Функции"
   ]
  },
  {
   "cell_type": "code",
   "execution_count": 2,
   "id": "32be7263",
   "metadata": {
    "ExecuteTime": {
     "end_time": "2023-05-28T15:24:30.125838Z",
     "start_time": "2023-05-28T15:24:30.122478Z"
    }
   },
   "outputs": [],
   "source": [
    "def calc_metrics(df_metric):\n",
    "    \"\"\"\n",
    "    Рассчет метрик\n",
    "    \"\"\"\n",
    "    df_metric = df_metric.copy()\n",
    "    calc_mean = df_metric['ytrue'].mean()\n",
    "    mae = mean_absolute_error(df_metric['ytrue'], df_metric['ypred'])\n",
    "    mape = mean_absolute_percentage_error(df_metric[df_metric['ytrue']!=0]['ytrue'], \n",
    "                                          df_metric[df_metric['ytrue']!=0]['ypred'])\n",
    "    rmse = sqrt(mean_squared_error(df_metric['ytrue'], df_metric['ypred']))\n",
    "\n",
    "    print(calc_mean)\n",
    "    print('MAE = ', mae, ' %mean = ', mae / calc_mean * 100)\n",
    "    print('MAPE = ', mape * 100)\n",
    "    print('RMSE = ', rmse,  ' %mean = ', rmse / calc_mean * 100)"
   ]
  },
  {
   "cell_type": "markdown",
   "id": "96bf2276",
   "metadata": {},
   "source": [
    "## Выгрузка данных"
   ]
  },
  {
   "cell_type": "code",
   "execution_count": 3,
   "id": "0c900106",
   "metadata": {
    "ExecuteTime": {
     "end_time": "2023-05-28T15:24:31.339314Z",
     "start_time": "2023-05-28T15:24:30.127212Z"
    }
   },
   "outputs": [
    {
     "name": "stdout",
     "output_type": "stream",
     "text": [
      "(1630, 93)\n"
     ]
    },
    {
     "data": {
      "text/html": [
       "<div>\n",
       "<style scoped>\n",
       "    .dataframe tbody tr th:only-of-type {\n",
       "        vertical-align: middle;\n",
       "    }\n",
       "\n",
       "    .dataframe tbody tr th {\n",
       "        vertical-align: top;\n",
       "    }\n",
       "\n",
       "    .dataframe thead th {\n",
       "        text-align: right;\n",
       "    }\n",
       "</style>\n",
       "<table border=\"1\" class=\"dataframe\">\n",
       "  <thead>\n",
       "    <tr style=\"text-align: right;\">\n",
       "      <th></th>\n",
       "      <th>TID</th>\n",
       "      <th>остаток на 31.08.2022 (входящий)</th>\n",
       "      <th>2022-09-01 00:00:00</th>\n",
       "      <th>2022-09-02 00:00:00</th>\n",
       "      <th>2022-09-03 00:00:00</th>\n",
       "      <th>2022-09-04 00:00:00</th>\n",
       "      <th>2022-09-05 00:00:00</th>\n",
       "      <th>2022-09-06 00:00:00</th>\n",
       "      <th>2022-09-07 00:00:00</th>\n",
       "      <th>2022-09-08 00:00:00</th>\n",
       "      <th>...</th>\n",
       "      <th>2022-11-21 00:00:00</th>\n",
       "      <th>2022-11-22 00:00:00</th>\n",
       "      <th>2022-11-23 00:00:00</th>\n",
       "      <th>2022-11-24 00:00:00</th>\n",
       "      <th>2022-11-25 00:00:00</th>\n",
       "      <th>2022-11-26 00:00:00</th>\n",
       "      <th>2022-11-27 00:00:00</th>\n",
       "      <th>2022-11-28 00:00:00</th>\n",
       "      <th>2022-11-29 00:00:00</th>\n",
       "      <th>2022-11-30 00:00:00</th>\n",
       "    </tr>\n",
       "  </thead>\n",
       "  <tbody>\n",
       "    <tr>\n",
       "      <th>0</th>\n",
       "      <td>406136</td>\n",
       "      <td>160000</td>\n",
       "      <td>90000</td>\n",
       "      <td>105000</td>\n",
       "      <td>99000</td>\n",
       "      <td>107000</td>\n",
       "      <td>110000</td>\n",
       "      <td>60000</td>\n",
       "      <td>75000</td>\n",
       "      <td>89000</td>\n",
       "      <td>...</td>\n",
       "      <td>91000</td>\n",
       "      <td>78000</td>\n",
       "      <td>0</td>\n",
       "      <td>165000</td>\n",
       "      <td>0</td>\n",
       "      <td>189000</td>\n",
       "      <td>106000</td>\n",
       "      <td>94000</td>\n",
       "      <td>75000</td>\n",
       "      <td>74000</td>\n",
       "    </tr>\n",
       "    <tr>\n",
       "      <th>1</th>\n",
       "      <td>406139</td>\n",
       "      <td>387000</td>\n",
       "      <td>103000</td>\n",
       "      <td>206000</td>\n",
       "      <td>168000</td>\n",
       "      <td>124000</td>\n",
       "      <td>78000</td>\n",
       "      <td>165000</td>\n",
       "      <td>164000</td>\n",
       "      <td>174000</td>\n",
       "      <td>...</td>\n",
       "      <td>164000</td>\n",
       "      <td>153000</td>\n",
       "      <td>151000</td>\n",
       "      <td>157000</td>\n",
       "      <td>206000</td>\n",
       "      <td>182000</td>\n",
       "      <td>123000</td>\n",
       "      <td>138000</td>\n",
       "      <td>112000</td>\n",
       "      <td>179000</td>\n",
       "    </tr>\n",
       "  </tbody>\n",
       "</table>\n",
       "<p>2 rows × 93 columns</p>\n",
       "</div>"
      ],
      "text/plain": [
       "      TID  остаток на 31.08.2022 (входящий)  2022-09-01 00:00:00  \\\n",
       "0  406136                            160000                90000   \n",
       "1  406139                            387000               103000   \n",
       "\n",
       "   2022-09-02 00:00:00  2022-09-03 00:00:00  2022-09-04 00:00:00  \\\n",
       "0               105000                99000               107000   \n",
       "1               206000               168000               124000   \n",
       "\n",
       "   2022-09-05 00:00:00  2022-09-06 00:00:00  2022-09-07 00:00:00  \\\n",
       "0               110000                60000                75000   \n",
       "1                78000               165000               164000   \n",
       "\n",
       "   2022-09-08 00:00:00  ...  2022-11-21 00:00:00  2022-11-22 00:00:00  \\\n",
       "0                89000  ...                91000                78000   \n",
       "1               174000  ...               164000               153000   \n",
       "\n",
       "   2022-11-23 00:00:00  2022-11-24 00:00:00  2022-11-25 00:00:00  \\\n",
       "0                    0               165000                    0   \n",
       "1               151000               157000               206000   \n",
       "\n",
       "   2022-11-26 00:00:00  2022-11-27 00:00:00  2022-11-28 00:00:00  \\\n",
       "0               189000               106000                94000   \n",
       "1               182000               123000               138000   \n",
       "\n",
       "   2022-11-29 00:00:00  2022-11-30 00:00:00  \n",
       "0                75000                74000  \n",
       "1               112000               179000  \n",
       "\n",
       "[2 rows x 93 columns]"
      ]
     },
     "execution_count": 3,
     "metadata": {},
     "output_type": "execute_result"
    }
   ],
   "source": [
    "incomes = pd.read_excel('../data/raw/terminal_data_hackathon v4.xlsx', sheet_name='Incomes')\n",
    "print(incomes.shape)\n",
    "incomes.head(2)"
   ]
  },
  {
   "cell_type": "markdown",
   "id": "26565826",
   "metadata": {},
   "source": [
    "## Смотрим данные"
   ]
  },
  {
   "cell_type": "code",
   "execution_count": 4,
   "id": "bd7328e7",
   "metadata": {
    "ExecuteTime": {
     "end_time": "2023-05-28T15:24:31.345845Z",
     "start_time": "2023-05-28T15:24:31.341251Z"
    }
   },
   "outputs": [
    {
     "data": {
      "text/plain": [
       "245     1132000\n",
       "560     1053000\n",
       "574     1517000\n",
       "814     1010000\n",
       "1141    6019000\n",
       "1275    1098000\n",
       "1277    1042000\n",
       "1339    2999000\n",
       "1441    1038000\n",
       "1455    1185000\n",
       "1489    2347000\n",
       "Name: остаток на 31.08.2022 (входящий), dtype: int64"
      ]
     },
     "execution_count": 4,
     "metadata": {},
     "output_type": "execute_result"
    }
   ],
   "source": [
    "incomes[incomes['остаток на 31.08.2022 (входящий)'] > 1_000_000]['остаток на 31.08.2022 (входящий)']"
   ]
  },
  {
   "cell_type": "code",
   "execution_count": 5,
   "id": "45b3b1e6",
   "metadata": {
    "ExecuteTime": {
     "end_time": "2023-05-28T15:24:31.363563Z",
     "start_time": "2023-05-28T15:24:31.346733Z"
    }
   },
   "outputs": [],
   "source": [
    "incomes_T = incomes.set_index('TID').drop(['остаток на 31.08.2022 (входящий)'], axis=1).T\n",
    "incomes_T.index = pd.to_datetime(incomes_T.index)\n",
    "incomes_T['sum_all'] = incomes_T.sum(axis=1)"
   ]
  },
  {
   "cell_type": "code",
   "execution_count": 6,
   "id": "d58cde51",
   "metadata": {
    "ExecuteTime": {
     "end_time": "2023-05-28T15:24:31.682742Z",
     "start_time": "2023-05-28T15:24:31.364819Z"
    }
   },
   "outputs": [
    {
     "data": {
      "text/plain": [
       "<Axes: >"
      ]
     },
     "execution_count": 6,
     "metadata": {},
     "output_type": "execute_result"
    },
    {
     "data": {
      "image/png": "[encoded data removed]",
      "text/plain": [
       "<Figure size 2500x500 with 1 Axes>"
      ]
     },
     "metadata": {},
     "output_type": "display_data"
    }
   ],
   "source": [
    "incomes_T[['sum_all']].plot(figsize=(25,5))"
   ]
  },
  {
   "cell_type": "code",
   "execution_count": 7,
   "id": "95b17f0d",
   "metadata": {
    "ExecuteTime": {
     "end_time": "2023-05-28T15:24:31.692873Z",
     "start_time": "2023-05-28T15:24:31.683899Z"
    }
   },
   "outputs": [
    {
     "data": {
      "text/html": [
       "<div>\n",
       "<style scoped>\n",
       "    .dataframe tbody tr th:only-of-type {\n",
       "        vertical-align: middle;\n",
       "    }\n",
       "\n",
       "    .dataframe tbody tr th {\n",
       "        vertical-align: top;\n",
       "    }\n",
       "\n",
       "    .dataframe thead th {\n",
       "        text-align: right;\n",
       "    }\n",
       "</style>\n",
       "<table border=\"1\" class=\"dataframe\">\n",
       "  <thead>\n",
       "    <tr style=\"text-align: right;\">\n",
       "      <th>TID</th>\n",
       "      <th>406136</th>\n",
       "      <th>406139</th>\n",
       "      <th>406145</th>\n",
       "      <th>406148</th>\n",
       "      <th>406180</th>\n",
       "      <th>406190</th>\n",
       "      <th>406196</th>\n",
       "      <th>406504</th>\n",
       "      <th>406509</th>\n",
       "      <th>406536</th>\n",
       "      <th>...</th>\n",
       "      <th>699540</th>\n",
       "      <th>699560</th>\n",
       "      <th>699572</th>\n",
       "      <th>699577</th>\n",
       "      <th>699578</th>\n",
       "      <th>699579</th>\n",
       "      <th>699629</th>\n",
       "      <th>699641</th>\n",
       "      <th>699664</th>\n",
       "      <th>sum_all</th>\n",
       "    </tr>\n",
       "  </thead>\n",
       "  <tbody>\n",
       "    <tr>\n",
       "      <th>2022-09-01</th>\n",
       "      <td>90000</td>\n",
       "      <td>103000</td>\n",
       "      <td>143000</td>\n",
       "      <td>50000</td>\n",
       "      <td>96000</td>\n",
       "      <td>219000</td>\n",
       "      <td>115000</td>\n",
       "      <td>382000</td>\n",
       "      <td>128000</td>\n",
       "      <td>63000</td>\n",
       "      <td>...</td>\n",
       "      <td>80000</td>\n",
       "      <td>110000</td>\n",
       "      <td>124000</td>\n",
       "      <td>0</td>\n",
       "      <td>0</td>\n",
       "      <td>49000</td>\n",
       "      <td>63000</td>\n",
       "      <td>63000</td>\n",
       "      <td>0</td>\n",
       "      <td>96520000</td>\n",
       "    </tr>\n",
       "    <tr>\n",
       "      <th>2022-09-02</th>\n",
       "      <td>105000</td>\n",
       "      <td>206000</td>\n",
       "      <td>136000</td>\n",
       "      <td>73000</td>\n",
       "      <td>82000</td>\n",
       "      <td>236000</td>\n",
       "      <td>123000</td>\n",
       "      <td>317000</td>\n",
       "      <td>126000</td>\n",
       "      <td>65000</td>\n",
       "      <td>...</td>\n",
       "      <td>102000</td>\n",
       "      <td>57000</td>\n",
       "      <td>0</td>\n",
       "      <td>25000</td>\n",
       "      <td>0</td>\n",
       "      <td>68000</td>\n",
       "      <td>63000</td>\n",
       "      <td>0</td>\n",
       "      <td>0</td>\n",
       "      <td>96929000</td>\n",
       "    </tr>\n",
       "  </tbody>\n",
       "</table>\n",
       "<p>2 rows × 1631 columns</p>\n",
       "</div>"
      ],
      "text/plain": [
       "TID         406136  406139  406145  406148  406180  406190  406196  406504  \\\n",
       "2022-09-01   90000  103000  143000   50000   96000  219000  115000  382000   \n",
       "2022-09-02  105000  206000  136000   73000   82000  236000  123000  317000   \n",
       "\n",
       "TID         406509  406536  ...  699540  699560  699572  699577  699578  \\\n",
       "2022-09-01  128000   63000  ...   80000  110000  124000       0       0   \n",
       "2022-09-02  126000   65000  ...  102000   57000       0   25000       0   \n",
       "\n",
       "TID         699579  699629  699641  699664   sum_all  \n",
       "2022-09-01   49000   63000   63000       0  96520000  \n",
       "2022-09-02   68000   63000       0       0  96929000  \n",
       "\n",
       "[2 rows x 1631 columns]"
      ]
     },
     "execution_count": 7,
     "metadata": {},
     "output_type": "execute_result"
    }
   ],
   "source": [
    "incomes_T.head(2)"
   ]
  },
  {
   "cell_type": "markdown",
   "id": "81832ddc",
   "metadata": {},
   "source": [
    "## NeuralProphet - запуск на один терминал"
   ]
  },
  {
   "cell_type": "code",
   "execution_count": 8,
   "id": "134afce0",
   "metadata": {
    "ExecuteTime": {
     "end_time": "2023-05-28T15:24:33.608562Z",
     "start_time": "2023-05-28T15:24:31.694507Z"
    }
   },
   "outputs": [
    {
     "name": "stderr",
     "output_type": "stream",
     "text": [
      "Missing logger folder: /Users/mariastepanova/MariaStepanova/Хакатон/ЛЦТ 2023/gazprom-terminal-optimizer/notebooks/lightning_logs\n"
     ]
    },
    {
     "data": {
      "application/vnd.jupyter.widget-view+json": {
       "model_id": "ac49b60a6cde4f29ab7a2cef85eb3b55",
       "version_major": 2,
       "version_minor": 0
      },
      "text/plain": [
       "Finding best initial lr:   0%|          | 0/204 [00:00<?, ?it/s]"
      ]
     },
     "metadata": {},
     "output_type": "display_data"
    },
    {
     "data": {
      "application/vnd.jupyter.widget-view+json": {
       "model_id": "f896367b950846f9bec4027f9090a25a",
       "version_major": 2,
       "version_minor": 0
      },
      "text/plain": [
       "Training: 0it [00:00, ?it/s]"
      ]
     },
     "metadata": {},
     "output_type": "display_data"
    }
   ],
   "source": [
    "set_random_seed(42)\n",
    "set_log_level(\"CRITICAL\")\n",
    "\n",
    "model = NeuralProphet(\n",
    "    n_changepoints=2,\n",
    "    changepoints_range = 0.75,\n",
    "    epochs = 100,\n",
    "    weekly_seasonality=True,\n",
    "    daily_seasonality=False,yearly_seasonality=False,\n",
    ")\n",
    "\n",
    "terminal = 406136\n",
    "end_date = '2022-10-18'\n",
    "df_train = incomes_T[incomes_T.index<end_date][[terminal]]\\\n",
    "          .reset_index()\\\n",
    "          .rename(columns={'index':'ds', terminal:'y'})\n",
    "model.fit(df_train);"
   ]
  },
  {
   "cell_type": "code",
   "execution_count": 9,
   "id": "a647f52b",
   "metadata": {
    "ExecuteTime": {
     "end_time": "2023-05-28T15:24:33.669273Z",
     "start_time": "2023-05-28T15:24:33.609880Z"
    }
   },
   "outputs": [
    {
     "data": {
      "application/vnd.jupyter.widget-view+json": {
       "model_id": "1828eefa537343d39da3a82acf759dd8",
       "version_major": 2,
       "version_minor": 0
      },
      "text/plain": [
       "Predicting: 3it [00:00, ?it/s]"
      ]
     },
     "metadata": {},
     "output_type": "display_data"
    },
    {
     "data": {
      "text/html": [
       "<div>\n",
       "<style scoped>\n",
       "    .dataframe tbody tr th:only-of-type {\n",
       "        vertical-align: middle;\n",
       "    }\n",
       "\n",
       "    .dataframe tbody tr th {\n",
       "        vertical-align: top;\n",
       "    }\n",
       "\n",
       "    .dataframe thead th {\n",
       "        text-align: right;\n",
       "    }\n",
       "</style>\n",
       "<table border=\"1\" class=\"dataframe\">\n",
       "  <thead>\n",
       "    <tr style=\"text-align: right;\">\n",
       "      <th></th>\n",
       "      <th>ds</th>\n",
       "      <th>y</th>\n",
       "      <th>yhat1</th>\n",
       "      <th>trend</th>\n",
       "      <th>season_weekly</th>\n",
       "    </tr>\n",
       "  </thead>\n",
       "  <tbody>\n",
       "    <tr>\n",
       "      <th>0</th>\n",
       "      <td>2022-09-01</td>\n",
       "      <td>90000</td>\n",
       "      <td>60862.082031</td>\n",
       "      <td>93045.351562</td>\n",
       "      <td>-32183.269531</td>\n",
       "    </tr>\n",
       "  </tbody>\n",
       "</table>\n",
       "</div>"
      ],
      "text/plain": [
       "          ds      y         yhat1         trend  season_weekly\n",
       "0 2022-09-01  90000  60862.082031  93045.351562  -32183.269531"
      ]
     },
     "execution_count": 9,
     "metadata": {},
     "output_type": "execute_result"
    }
   ],
   "source": [
    "future_dates = model.make_future_dataframe(df_train, n_historic_predictions=True, periods=14)\n",
    "prediction = model.predict(future_dates)\n",
    "prediction.head(1)"
   ]
  },
  {
   "cell_type": "code",
   "execution_count": 10,
   "id": "a6eac3d3",
   "metadata": {
    "ExecuteTime": {
     "end_time": "2023-05-28T15:24:33.676556Z",
     "start_time": "2023-05-28T15:24:33.672604Z"
    }
   },
   "outputs": [],
   "source": [
    "#Добавление таргета за первые два месяца для отрисовки\n",
    "prediction['ypred'] = prediction['yhat1'].copy()\n",
    "prediction.loc[prediction['ds']<end_date, 'yhat1']= prediction.loc[prediction['ds']<end_date, 'y']"
   ]
  },
  {
   "cell_type": "code",
   "execution_count": 11,
   "id": "95ffdbe4",
   "metadata": {
    "ExecuteTime": {
     "end_time": "2023-05-28T15:24:33.941702Z",
     "start_time": "2023-05-28T15:24:33.677732Z"
    }
   },
   "outputs": [
    {
     "data": {
      "application/vnd.jupyter.widget-view+json": {
       "model_id": "40b4451839b84c999b425e4b7c3f14d3",
       "version_major": 2,
       "version_minor": 0
      },
      "text/plain": [
       "FigureWidgetResampler({\n",
       "    'data': [{'fill': 'none',\n",
       "              'line': {'color': 'rgba(45, 146, 255, 1.0)', 'width': 2},\n",
       "              'mode': 'lines',\n",
       "              'name': 'yhat1',\n",
       "              'type': 'scatter',\n",
       "              'uid': '49cf662e-31fa-4262-8fcb-c8e67f65b6d5',\n",
       "              'x': array([datetime.datetime(2022, 9, 1, 0, 0),\n",
       "                          datetime.datetime(2022, 9, 2, 0, 0),\n",
       "                          datetime.datetime(2022, 9, 3, 0, 0),\n",
       "                          datetime.datetime(2022, 9, 4, 0, 0),\n",
       "                          datetime.datetime(2022, 9, 5, 0, 0),\n",
       "                          datetime.datetime(2022, 9, 6, 0, 0),\n",
       "                          datetime.datetime(2022, 9, 7, 0, 0),\n",
       "                          datetime.datetime(2022, 9, 8, 0, 0),\n",
       "                          datetime.datetime(2022, 9, 9, 0, 0),\n",
       "                          datetime.datetime(2022, 9, 10, 0, 0),\n",
       "                          datetime.datetime(2022, 9, 11, 0, 0),\n",
       "                          datetime.datetime(2022, 9, 12, 0, 0),\n",
       "                          datetime.datetime(2022, 9, 13, 0, 0),\n",
       "                          datetime.datetime(2022, 9, 14, 0, 0),\n",
       "                          datetime.datetime(2022, 9, 15, 0, 0),\n",
       "                          datetime.datetime(2022, 9, 16, 0, 0),\n",
       "                          datetime.datetime(2022, 9, 17, 0, 0),\n",
       "                          datetime.datetime(2022, 9, 18, 0, 0),\n",
       "                          datetime.datetime(2022, 9, 19, 0, 0),\n",
       "                          datetime.datetime(2022, 9, 20, 0, 0),\n",
       "                          datetime.datetime(2022, 9, 21, 0, 0),\n",
       "                          datetime.datetime(2022, 9, 22, 0, 0),\n",
       "                          datetime.datetime(2022, 9, 23, 0, 0),\n",
       "                          datetime.datetime(2022, 9, 24, 0, 0),\n",
       "                          datetime.datetime(2022, 9, 25, 0, 0),\n",
       "                          datetime.datetime(2022, 9, 26, 0, 0),\n",
       "                          datetime.datetime(2022, 9, 27, 0, 0),\n",
       "                          datetime.datetime(2022, 9, 28, 0, 0),\n",
       "                          datetime.datetime(2022, 9, 29, 0, 0),\n",
       "                          datetime.datetime(2022, 9, 30, 0, 0),\n",
       "                          datetime.datetime(2022, 10, 1, 0, 0),\n",
       "                          datetime.datetime(2022, 10, 2, 0, 0),\n",
       "                          datetime.datetime(2022, 10, 3, 0, 0),\n",
       "                          datetime.datetime(2022, 10, 4, 0, 0),\n",
       "                          datetime.datetime(2022, 10, 5, 0, 0),\n",
       "                          datetime.datetime(2022, 10, 6, 0, 0),\n",
       "                          datetime.datetime(2022, 10, 7, 0, 0),\n",
       "                          datetime.datetime(2022, 10, 8, 0, 0),\n",
       "                          datetime.datetime(2022, 10, 9, 0, 0),\n",
       "                          datetime.datetime(2022, 10, 10, 0, 0),\n",
       "                          datetime.datetime(2022, 10, 11, 0, 0),\n",
       "                          datetime.datetime(2022, 10, 12, 0, 0),\n",
       "                          datetime.datetime(2022, 10, 13, 0, 0),\n",
       "                          datetime.datetime(2022, 10, 14, 0, 0),\n",
       "                          datetime.datetime(2022, 10, 15, 0, 0),\n",
       "                          datetime.datetime(2022, 10, 16, 0, 0),\n",
       "                          datetime.datetime(2022, 10, 17, 0, 0),\n",
       "                          datetime.datetime(2022, 10, 18, 0, 0),\n",
       "                          datetime.datetime(2022, 10, 19, 0, 0),\n",
       "                          datetime.datetime(2022, 10, 20, 0, 0),\n",
       "                          datetime.datetime(2022, 10, 21, 0, 0),\n",
       "                          datetime.datetime(2022, 10, 22, 0, 0),\n",
       "                          datetime.datetime(2022, 10, 23, 0, 0),\n",
       "                          datetime.datetime(2022, 10, 24, 0, 0),\n",
       "                          datetime.datetime(2022, 10, 25, 0, 0),\n",
       "                          datetime.datetime(2022, 10, 26, 0, 0),\n",
       "                          datetime.datetime(2022, 10, 27, 0, 0),\n",
       "                          datetime.datetime(2022, 10, 28, 0, 0),\n",
       "                          datetime.datetime(2022, 10, 29, 0, 0),\n",
       "                          datetime.datetime(2022, 10, 30, 0, 0),\n",
       "                          datetime.datetime(2022, 10, 31, 0, 0)], dtype=object),\n",
       "              'y': array([ 90000.       , 105000.       ,  99000.       , 107000.       ,\n",
       "                          110000.       ,  60000.       ,  75000.       ,  89000.       ,\n",
       "                           95000.       , 116000.       ,  85000.       , 110000.       ,\n",
       "                           84000.       ,  51000.       ,  51000.       , 150000.       ,\n",
       "                               0.       , 225000.       ,  75000.       ,      0.       ,\n",
       "                          175000.       ,  55000.       , 125000.       , 110000.       ,\n",
       "                          115000.       , 100000.       ,  75000.       ,  99000.       ,\n",
       "                          100000.       ,      0.       , 106000.       , 120000.       ,\n",
       "                           85000.       , 102000.       ,  94000.       ,      0.       ,\n",
       "                          195000.       , 107000.       , 109000.       ,      0.       ,\n",
       "                          184000.       ,  82000.       ,  70000.       , 105000.       ,\n",
       "                          125000.       ,  90000.       ,  91000.       ,  93411.09375  ,\n",
       "                           97789.21875  ,  62247.2890625, 111477.1796875,  98450.015625 ,\n",
       "                          120174.3203125,  77146.03125  ,  93092.3515625,  97470.4765625,\n",
       "                           61928.546875 , 111158.4296875,  98131.2734375, 119855.5859375,\n",
       "                           76827.2890625])},\n",
       "             {'marker': {'color': 'black', 'size': 4},\n",
       "              'mode': 'markers',\n",
       "              'name': 'Actual',\n",
       "              'type': 'scatter',\n",
       "              'uid': '888944dd-178d-4e3f-b2c5-ce597250bccb',\n",
       "              'x': array([datetime.datetime(2022, 9, 1, 0, 0),\n",
       "                          datetime.datetime(2022, 9, 2, 0, 0),\n",
       "                          datetime.datetime(2022, 9, 3, 0, 0),\n",
       "                          datetime.datetime(2022, 9, 4, 0, 0),\n",
       "                          datetime.datetime(2022, 9, 5, 0, 0),\n",
       "                          datetime.datetime(2022, 9, 6, 0, 0),\n",
       "                          datetime.datetime(2022, 9, 7, 0, 0),\n",
       "                          datetime.datetime(2022, 9, 8, 0, 0),\n",
       "                          datetime.datetime(2022, 9, 9, 0, 0),\n",
       "                          datetime.datetime(2022, 9, 10, 0, 0),\n",
       "                          datetime.datetime(2022, 9, 11, 0, 0),\n",
       "                          datetime.datetime(2022, 9, 12, 0, 0),\n",
       "                          datetime.datetime(2022, 9, 13, 0, 0),\n",
       "                          datetime.datetime(2022, 9, 14, 0, 0),\n",
       "                          datetime.datetime(2022, 9, 15, 0, 0),\n",
       "                          datetime.datetime(2022, 9, 16, 0, 0),\n",
       "                          datetime.datetime(2022, 9, 17, 0, 0),\n",
       "                          datetime.datetime(2022, 9, 18, 0, 0),\n",
       "                          datetime.datetime(2022, 9, 19, 0, 0),\n",
       "                          datetime.datetime(2022, 9, 20, 0, 0),\n",
       "                          datetime.datetime(2022, 9, 21, 0, 0),\n",
       "                          datetime.datetime(2022, 9, 22, 0, 0),\n",
       "                          datetime.datetime(2022, 9, 23, 0, 0),\n",
       "                          datetime.datetime(2022, 9, 24, 0, 0),\n",
       "                          datetime.datetime(2022, 9, 25, 0, 0),\n",
       "                          datetime.datetime(2022, 9, 26, 0, 0),\n",
       "                          datetime.datetime(2022, 9, 27, 0, 0),\n",
       "                          datetime.datetime(2022, 9, 28, 0, 0),\n",
       "                          datetime.datetime(2022, 9, 29, 0, 0),\n",
       "                          datetime.datetime(2022, 9, 30, 0, 0),\n",
       "                          datetime.datetime(2022, 10, 1, 0, 0),\n",
       "                          datetime.datetime(2022, 10, 2, 0, 0),\n",
       "                          datetime.datetime(2022, 10, 3, 0, 0),\n",
       "                          datetime.datetime(2022, 10, 4, 0, 0),\n",
       "                          datetime.datetime(2022, 10, 5, 0, 0),\n",
       "                          datetime.datetime(2022, 10, 6, 0, 0),\n",
       "                          datetime.datetime(2022, 10, 7, 0, 0),\n",
       "                          datetime.datetime(2022, 10, 8, 0, 0),\n",
       "                          datetime.datetime(2022, 10, 9, 0, 0),\n",
       "                          datetime.datetime(2022, 10, 10, 0, 0),\n",
       "                          datetime.datetime(2022, 10, 11, 0, 0),\n",
       "                          datetime.datetime(2022, 10, 12, 0, 0),\n",
       "                          datetime.datetime(2022, 10, 13, 0, 0),\n",
       "                          datetime.datetime(2022, 10, 14, 0, 0),\n",
       "                          datetime.datetime(2022, 10, 15, 0, 0),\n",
       "                          datetime.datetime(2022, 10, 16, 0, 0),\n",
       "                          datetime.datetime(2022, 10, 17, 0, 0),\n",
       "                          datetime.datetime(2022, 10, 18, 0, 0),\n",
       "                          datetime.datetime(2022, 10, 19, 0, 0),\n",
       "                          datetime.datetime(2022, 10, 20, 0, 0),\n",
       "                          datetime.datetime(2022, 10, 21, 0, 0),\n",
       "                          datetime.datetime(2022, 10, 22, 0, 0),\n",
       "                          datetime.datetime(2022, 10, 23, 0, 0),\n",
       "                          datetime.datetime(2022, 10, 24, 0, 0),\n",
       "                          datetime.datetime(2022, 10, 25, 0, 0),\n",
       "                          datetime.datetime(2022, 10, 26, 0, 0),\n",
       "                          datetime.datetime(2022, 10, 27, 0, 0),\n",
       "                          datetime.datetime(2022, 10, 28, 0, 0),\n",
       "                          datetime.datetime(2022, 10, 29, 0, 0),\n",
       "                          datetime.datetime(2022, 10, 30, 0, 0),\n",
       "                          datetime.datetime(2022, 10, 31, 0, 0)], dtype=object),\n",
       "              'y': array([ 90000., 105000.,  99000., 107000., 110000.,  60000.,  75000.,  89000.,\n",
       "                           95000., 116000.,  85000., 110000.,  84000.,  51000.,  51000., 150000.,\n",
       "                               0., 225000.,  75000.,      0., 175000.,  55000., 125000., 110000.,\n",
       "                          115000., 100000.,  75000.,  99000., 100000.,      0., 106000., 120000.,\n",
       "                           85000., 102000.,  94000.,      0., 195000., 107000., 109000.,      0.,\n",
       "                          184000.,  82000.,  70000., 105000., 125000.,  90000.,  91000.,     nan,\n",
       "                              nan,     nan,     nan,     nan,     nan,     nan,     nan,     nan,\n",
       "                              nan,     nan,     nan,     nan,     nan])}],\n",
       "    'layout': {'autosize': True,\n",
       "               'font': {'size': 10},\n",
       "               'height': 420,\n",
       "               'hovermode': 'x unified',\n",
       "               'margin': {'b': 0, 'l': 0, 'pad': 0, 'r': 10, 't': 10},\n",
       "               'showlegend': True,\n",
       "               'template': '...',\n",
       "               'title': {'font': {'size': 12}},\n",
       "               'width': 700,\n",
       "               'xaxis': {'linewidth': 1.5,\n",
       "                         'mirror': True,\n",
       "                         'rangeselector': {'buttons': [{'count': 7, 'label': '1w', 'step': 'day', 'stepmode': 'backward'},\n",
       "                                                       {'count': 1,\n",
       "                                                        'label': '1m',\n",
       "                                                        'step': 'month',\n",
       "                                                        'stepmode': 'backward'},\n",
       "                                                       {'count': 6,\n",
       "                                                        'label': '6m',\n",
       "                                                        'step': 'month',\n",
       "                                                        'stepmode': 'backward'},\n",
       "                                                       {'count': 1, 'label': '1y', 'step': 'year', 'stepmode': 'backward'},\n",
       "                                                       {'step': 'all'}]},\n",
       "                         'rangeslider': {'visible': True},\n",
       "                         'showline': True,\n",
       "                         'title': {'text': 'ds'},\n",
       "                         'type': 'date'},\n",
       "               'yaxis': {'linewidth': 1.5, 'mirror': True, 'showline': True, 'title': {'text': 'y'}}}\n",
       "})"
      ]
     },
     "execution_count": 11,
     "metadata": {},
     "output_type": "execute_result"
    }
   ],
   "source": [
    "model.plot(prediction)"
   ]
  },
  {
   "cell_type": "code",
   "execution_count": 12,
   "id": "e2f0e98e",
   "metadata": {
    "ExecuteTime": {
     "end_time": "2023-05-28T15:24:33.957160Z",
     "start_time": "2023-05-28T15:24:33.943567Z"
    }
   },
   "outputs": [
    {
     "data": {
      "text/html": [
       "<div>\n",
       "<style scoped>\n",
       "    .dataframe tbody tr th:only-of-type {\n",
       "        vertical-align: middle;\n",
       "    }\n",
       "\n",
       "    .dataframe tbody tr th {\n",
       "        vertical-align: top;\n",
       "    }\n",
       "\n",
       "    .dataframe thead th {\n",
       "        text-align: right;\n",
       "    }\n",
       "</style>\n",
       "<table border=\"1\" class=\"dataframe\">\n",
       "  <thead>\n",
       "    <tr style=\"text-align: right;\">\n",
       "      <th></th>\n",
       "      <th>ytrue</th>\n",
       "      <th>ypred</th>\n",
       "      <th>residuals</th>\n",
       "    </tr>\n",
       "  </thead>\n",
       "  <tbody>\n",
       "    <tr>\n",
       "      <th>2022-10-18</th>\n",
       "      <td>115000</td>\n",
       "      <td>93411.09375</td>\n",
       "      <td>21588.90625</td>\n",
       "    </tr>\n",
       "    <tr>\n",
       "      <th>2022-10-19</th>\n",
       "      <td>95000</td>\n",
       "      <td>97789.21875</td>\n",
       "      <td>-2789.21875</td>\n",
       "    </tr>\n",
       "  </tbody>\n",
       "</table>\n",
       "</div>"
      ],
      "text/plain": [
       "             ytrue        ypred    residuals\n",
       "2022-10-18  115000  93411.09375  21588.90625\n",
       "2022-10-19   95000  97789.21875  -2789.21875"
      ]
     },
     "execution_count": 12,
     "metadata": {},
     "output_type": "execute_result"
    }
   ],
   "source": [
    "for_metrics = incomes_T[incomes_T.index>=end_date][[terminal]]\\\n",
    "                                 .rename(columns={terminal: 'ytrue'})\\\n",
    "    .merge(prediction[prediction['ds']>=end_date][['ds', 'ypred']]\\\n",
    "            .set_index('ds')\n",
    "          , left_index=True, right_index=True)\n",
    "for_metrics['residuals'] = for_metrics['ytrue'] - for_metrics['ypred']\n",
    "for_metrics.head(2)"
   ]
  },
  {
   "cell_type": "code",
   "execution_count": 13,
   "id": "590ba05a",
   "metadata": {
    "ExecuteTime": {
     "end_time": "2023-05-28T15:24:34.482807Z",
     "start_time": "2023-05-28T15:24:33.958384Z"
    }
   },
   "outputs": [
    {
     "data": {
      "application/vnd.jupyter.widget-view+json": {
       "model_id": "980f3e590b8e4a3c8b19edf53ef13fed",
       "version_major": 2,
       "version_minor": 0
      },
      "text/plain": [
       "FigureWidgetResampler({\n",
       "    'data': [{'line': {'color': '#2d92ff', 'width': 2},\n",
       "              'mode': 'lines',\n",
       "              'name': 'Trend',\n",
       "              'showlegend': False,\n",
       "              'type': 'scatter',\n",
       "              'uid': 'c2dcf266-662b-4195-bcb4-ab80f52cd23a',\n",
       "              'x': array([datetime.datetime(2022, 9, 1, 0, 0),\n",
       "                          datetime.datetime(2022, 9, 2, 0, 0),\n",
       "                          datetime.datetime(2022, 9, 3, 0, 0),\n",
       "                          datetime.datetime(2022, 9, 4, 0, 0),\n",
       "                          datetime.datetime(2022, 9, 5, 0, 0),\n",
       "                          datetime.datetime(2022, 9, 6, 0, 0),\n",
       "                          datetime.datetime(2022, 9, 7, 0, 0),\n",
       "                          datetime.datetime(2022, 9, 8, 0, 0),\n",
       "                          datetime.datetime(2022, 9, 9, 0, 0),\n",
       "                          datetime.datetime(2022, 9, 10, 0, 0),\n",
       "                          datetime.datetime(2022, 9, 11, 0, 0),\n",
       "                          datetime.datetime(2022, 9, 12, 0, 0),\n",
       "                          datetime.datetime(2022, 9, 13, 0, 0),\n",
       "                          datetime.datetime(2022, 9, 14, 0, 0),\n",
       "                          datetime.datetime(2022, 9, 15, 0, 0),\n",
       "                          datetime.datetime(2022, 9, 16, 0, 0),\n",
       "                          datetime.datetime(2022, 9, 17, 0, 0),\n",
       "                          datetime.datetime(2022, 9, 18, 0, 0),\n",
       "                          datetime.datetime(2022, 9, 19, 0, 0),\n",
       "                          datetime.datetime(2022, 9, 20, 0, 0),\n",
       "                          datetime.datetime(2022, 9, 21, 0, 0),\n",
       "                          datetime.datetime(2022, 9, 22, 0, 0),\n",
       "                          datetime.datetime(2022, 9, 23, 0, 0),\n",
       "                          datetime.datetime(2022, 9, 24, 0, 0),\n",
       "                          datetime.datetime(2022, 9, 25, 0, 0),\n",
       "                          datetime.datetime(2022, 9, 26, 0, 0),\n",
       "                          datetime.datetime(2022, 9, 27, 0, 0),\n",
       "                          datetime.datetime(2022, 9, 28, 0, 0),\n",
       "                          datetime.datetime(2022, 9, 29, 0, 0),\n",
       "                          datetime.datetime(2022, 9, 30, 0, 0),\n",
       "                          datetime.datetime(2022, 10, 1, 0, 0),\n",
       "                          datetime.datetime(2022, 10, 2, 0, 0),\n",
       "                          datetime.datetime(2022, 10, 3, 0, 0),\n",
       "                          datetime.datetime(2022, 10, 4, 0, 0),\n",
       "                          datetime.datetime(2022, 10, 5, 0, 0),\n",
       "                          datetime.datetime(2022, 10, 6, 0, 0),\n",
       "                          datetime.datetime(2022, 10, 7, 0, 0),\n",
       "                          datetime.datetime(2022, 10, 8, 0, 0),\n",
       "                          datetime.datetime(2022, 10, 9, 0, 0),\n",
       "                          datetime.datetime(2022, 10, 10, 0, 0),\n",
       "                          datetime.datetime(2022, 10, 11, 0, 0),\n",
       "                          datetime.datetime(2022, 10, 12, 0, 0),\n",
       "                          datetime.datetime(2022, 10, 13, 0, 0),\n",
       "                          datetime.datetime(2022, 10, 14, 0, 0),\n",
       "                          datetime.datetime(2022, 10, 15, 0, 0),\n",
       "                          datetime.datetime(2022, 10, 16, 0, 0),\n",
       "                          datetime.datetime(2022, 10, 17, 0, 0),\n",
       "                          datetime.datetime(2022, 10, 18, 0, 0),\n",
       "                          datetime.datetime(2022, 10, 19, 0, 0),\n",
       "                          datetime.datetime(2022, 10, 20, 0, 0),\n",
       "                          datetime.datetime(2022, 10, 21, 0, 0),\n",
       "                          datetime.datetime(2022, 10, 22, 0, 0),\n",
       "                          datetime.datetime(2022, 10, 23, 0, 0),\n",
       "                          datetime.datetime(2022, 10, 24, 0, 0),\n",
       "                          datetime.datetime(2022, 10, 25, 0, 0),\n",
       "                          datetime.datetime(2022, 10, 26, 0, 0),\n",
       "                          datetime.datetime(2022, 10, 27, 0, 0),\n",
       "                          datetime.datetime(2022, 10, 28, 0, 0),\n",
       "                          datetime.datetime(2022, 10, 29, 0, 0),\n",
       "                          datetime.datetime(2022, 10, 30, 0, 0),\n",
       "                          datetime.datetime(2022, 10, 31, 0, 0)], dtype=object),\n",
       "              'xaxis': 'x',\n",
       "              'y': array([93045.3515625, 92608.3359375, 92171.328125 , 91734.3046875,\n",
       "                          91297.296875 , 90860.28125  , 90423.2734375, 89986.2578125,\n",
       "                          89549.2421875, 89112.2265625, 88675.21875  , 88238.203125 ,\n",
       "                          88349.8984375, 89010.3125   , 89670.734375 , 90331.140625 ,\n",
       "                          90991.5546875, 91651.9765625, 92312.3828125, 92972.796875 ,\n",
       "                          93633.21875  , 94293.625    , 94954.0390625, 95614.453125 ,\n",
       "                          95568.921875 , 95523.3828125, 95477.84375  , 95432.3125   ,\n",
       "                          95386.78125  , 95341.2421875, 95295.7109375, 95250.171875 ,\n",
       "                          95204.640625 , 95159.109375 , 95113.5703125, 95068.03125  ,\n",
       "                          95022.5078125, 94976.96875  , 94931.4296875, 94885.8984375,\n",
       "                          94840.3671875, 94794.828125 , 94749.2890625, 94703.765625 ,\n",
       "                          94658.2265625, 94612.6875   , 94567.1640625, 94521.625    ,\n",
       "                          94476.0859375, 94430.5625   , 94385.0234375, 94339.484375 ,\n",
       "                          94293.9453125, 94248.421875 , 94202.8828125, 94157.34375  ,\n",
       "                          94111.8125   , 94066.28125  , 94020.7421875, 93975.2109375,\n",
       "                          93929.671875 ]),\n",
       "              'yaxis': 'y'}],\n",
       "    'layout': {'autosize': True,\n",
       "               'font': {'size': 10},\n",
       "               'height': 210,\n",
       "               'hovermode': 'x unified',\n",
       "               'legend': {'traceorder': 'reversed', 'y': 0.1},\n",
       "               'margin': {'b': 0, 'l': 0, 'pad': 0, 'r': 10, 't': 10},\n",
       "               'template': '...',\n",
       "               'title': {'font': {'size': 12}},\n",
       "               'width': 700,\n",
       "               'xaxis': {'anchor': 'y',\n",
       "                         'domain': [0.0, 1.0],\n",
       "                         'linewidth': 1.5,\n",
       "                         'mirror': True,\n",
       "                         'range': [2022-08-29 00:00:00, 2022-11-03 00:00:00],\n",
       "                         'showline': True,\n",
       "                         'title': {'text': 'ds'},\n",
       "                         'type': 'date'},\n",
       "               'yaxis': {'anchor': 'x',\n",
       "                         'domain': [0.0, 1.0],\n",
       "                         'linewidth': 1.5,\n",
       "                         'mirror': True,\n",
       "                         'rangemode': 'normal',\n",
       "                         'showline': True,\n",
       "                         'title': {'text': 'Trend'}}}\n",
       "})"
      ]
     },
     "execution_count": 13,
     "metadata": {},
     "output_type": "execute_result"
    }
   ],
   "source": [
    "model.plot_components(prediction, components=[\"trend\"])"
   ]
  },
  {
   "cell_type": "code",
   "execution_count": 14,
   "id": "6379ea0e",
   "metadata": {
    "ExecuteTime": {
     "end_time": "2023-05-28T15:24:34.488571Z",
     "start_time": "2023-05-28T15:24:34.484013Z"
    }
   },
   "outputs": [
    {
     "data": {
      "text/plain": [
       "[629806, 634736]"
      ]
     },
     "execution_count": 14,
     "metadata": {},
     "output_type": "execute_result"
    }
   ],
   "source": [
    "#есть два терминала, у которых на последние 2 недели октября одни нули. Им n_changepoints будет поставлено 2\n",
    "tt = incomes_T[(incomes_T.index>'2022-10-18')&(incomes_T.index<'2022-11-01')].sum()\n",
    "tt[tt==0].index.tolist()"
   ]
  },
  {
   "cell_type": "code",
   "execution_count": 15,
   "id": "3ad587ff",
   "metadata": {
    "ExecuteTime": {
     "end_time": "2023-05-28T15:24:34.495004Z",
     "start_time": "2023-05-28T15:24:34.489932Z"
    }
   },
   "outputs": [
    {
     "name": "stdout",
     "output_type": "stream",
     "text": [
      "94571.42857142857\n",
      "MAE =  14936.53515625  %mean =  15.793919349509064\n",
      "MAPE =  16.015361233992657\n",
      "RMSE =  17425.96243243518  %mean =  18.426244263904266\n"
     ]
    }
   ],
   "source": [
    "calc_metrics(for_metrics)"
   ]
  },
  {
   "cell_type": "markdown",
   "id": "681596a9",
   "metadata": {},
   "source": [
    "## Прогон по всем вариантам гиперпараметра n_changepoints"
   ]
  },
  {
   "cell_type": "markdown",
   "id": "7e6ba624",
   "metadata": {},
   "source": [
    "*Обучение на 1.5мес, предсказание на 14 дней, чтобы найти наилучшее количество n_changepoints*"
   ]
  },
  {
   "cell_type": "code",
   "execution_count": null,
   "id": "b5203a90",
   "metadata": {
    "ExecuteTime": {
     "end_time": "2023-05-27T10:44:15.803536Z",
     "start_time": "2023-05-27T09:20:58.233576Z"
    }
   },
   "outputs": [],
   "source": [
    "%%time\n",
    "end_date = '2022-10-18'\n",
    "pd.DataFrame({'terminal':[], 'n_changepoints':[], 'mape':[]})\\\n",
    "    .to_csv('../data/processed/n_changepoints_select.csv', mode='w', header=True, index=False)\n",
    "\n",
    "list_of_terminals = set(incomes_T.columns.tolist()).difference(set([629806, 634736]))\n",
    "\n",
    "for terminal in list_of_terminals:\n",
    "\n",
    "    l_terminal, l_n_changepoints, l_mape = [], [], []\n",
    "    d_res = {'terminal':[], 'n_changepoints':[], 'mape':[]}\n",
    "    \n",
    "    for i in range(0,6):\n",
    "        \n",
    "        model = NeuralProphet(\n",
    "                n_changepoints=i, \n",
    "                changepoints_range = 0.75,\n",
    "                epochs = 100,\n",
    "                weekly_seasonality=True,\n",
    "                daily_seasonality=False,yearly_seasonality=False,);\n",
    "        set_random_seed(42)\n",
    "        set_log_level(\"CRITICAL\")\n",
    "\n",
    "        df_train = incomes_T[incomes_T.index<end_date][[terminal]]\\\n",
    "                  .reset_index()\\\n",
    "                  .rename(columns={'index':'ds', terminal:'y'})\n",
    "        model.fit(df_train);\n",
    "\n",
    "        future_dates = model.make_future_dataframe(df_train, n_historic_predictions=False, periods=14)\n",
    "        prediction = model.predict(future_dates)\n",
    "\n",
    "        prediction['ypred'] = prediction['yhat1'].copy()\n",
    "        prediction.loc[prediction['ds']<end_date, 'yhat1']= prediction.loc[prediction['ds']<end_date, 'y']\n",
    "\n",
    "        #для рассчета метрики\n",
    "        for_metrics = incomes_T[incomes_T.index>=end_date][[terminal]]\\\n",
    "                                     .rename(columns={terminal: 'ytrue'})\\\n",
    "            .merge(prediction[prediction['ds']>=end_date][['ds', 'ypred']]\\\n",
    "                    .set_index('ds')\n",
    "                  , left_index=True, right_index=True)\n",
    "        mape = mean_absolute_percentage_error(for_metrics[for_metrics['ytrue']!=0]['ytrue'], \n",
    "                                              for_metrics[for_metrics['ytrue']!=0]['ypred'])\n",
    "        \n",
    "        l_terminal.append(terminal)\n",
    "        l_n_changepoints.append(i)\n",
    "        l_mape.append(mape)\n",
    "\n",
    "    d_res['terminal'].extend(l_terminal)\n",
    "    d_res['n_changepoints'].extend(l_n_changepoints)\n",
    "    d_res['mape'].extend(l_mape)\n",
    "    \n",
    "    pd.DataFrame(d_res).to_csv('../data/processed/n_changepoints_select.csv', mode='a'\n",
    "                               , header=False, index=False)\n",
    "    "
   ]
  },
  {
   "cell_type": "code",
   "execution_count": 16,
   "id": "1f11aa3a",
   "metadata": {
    "ExecuteTime": {
     "end_time": "2023-05-28T15:24:36.150472Z",
     "start_time": "2023-05-28T15:24:36.101483Z"
    }
   },
   "outputs": [
    {
     "data": {
      "text/html": [
       "<div>\n",
       "<style scoped>\n",
       "    .dataframe tbody tr th:only-of-type {\n",
       "        vertical-align: middle;\n",
       "    }\n",
       "\n",
       "    .dataframe tbody tr th {\n",
       "        vertical-align: top;\n",
       "    }\n",
       "\n",
       "    .dataframe thead th {\n",
       "        text-align: right;\n",
       "    }\n",
       "</style>\n",
       "<table border=\"1\" class=\"dataframe\">\n",
       "  <thead>\n",
       "    <tr style=\"text-align: right;\">\n",
       "      <th></th>\n",
       "      <th>terminal</th>\n",
       "      <th>n_changepoints</th>\n",
       "      <th>mape</th>\n",
       "    </tr>\n",
       "  </thead>\n",
       "  <tbody>\n",
       "    <tr>\n",
       "      <th>0</th>\n",
       "      <td>406136</td>\n",
       "      <td>0</td>\n",
       "      <td>0.165501</td>\n",
       "    </tr>\n",
       "    <tr>\n",
       "      <th>1</th>\n",
       "      <td>406136</td>\n",
       "      <td>1</td>\n",
       "      <td>0.178011</td>\n",
       "    </tr>\n",
       "    <tr>\n",
       "      <th>2</th>\n",
       "      <td>406136</td>\n",
       "      <td>2</td>\n",
       "      <td>0.160154</td>\n",
       "    </tr>\n",
       "    <tr>\n",
       "      <th>3</th>\n",
       "      <td>406136</td>\n",
       "      <td>3</td>\n",
       "      <td>0.177978</td>\n",
       "    </tr>\n",
       "    <tr>\n",
       "      <th>4</th>\n",
       "      <td>406136</td>\n",
       "      <td>4</td>\n",
       "      <td>0.160214</td>\n",
       "    </tr>\n",
       "  </tbody>\n",
       "</table>\n",
       "</div>"
      ],
      "text/plain": [
       "   terminal  n_changepoints      mape\n",
       "0    406136               0  0.165501\n",
       "1    406136               1  0.178011\n",
       "2    406136               2  0.160154\n",
       "3    406136               3  0.177978\n",
       "4    406136               4  0.160214"
      ]
     },
     "execution_count": 16,
     "metadata": {},
     "output_type": "execute_result"
    }
   ],
   "source": [
    "df_res = pd.read_csv('../data/processed/n_changepoints_select.csv', header=0) \n",
    "df_res = df_res[df_res['terminal']!='sum_all'].reset_index(drop=True)\n",
    "df_res['terminal'] = df_res['terminal'].astype(int)\n",
    "df_res.head()"
   ]
  },
  {
   "cell_type": "code",
   "execution_count": 17,
   "id": "b625aafe",
   "metadata": {
    "ExecuteTime": {
     "end_time": "2023-05-28T15:24:36.443479Z",
     "start_time": "2023-05-28T15:24:36.413855Z"
    }
   },
   "outputs": [
    {
     "data": {
      "text/html": [
       "<div>\n",
       "<style scoped>\n",
       "    .dataframe tbody tr th:only-of-type {\n",
       "        vertical-align: middle;\n",
       "    }\n",
       "\n",
       "    .dataframe tbody tr th {\n",
       "        vertical-align: top;\n",
       "    }\n",
       "\n",
       "    .dataframe thead th {\n",
       "        text-align: right;\n",
       "    }\n",
       "</style>\n",
       "<table border=\"1\" class=\"dataframe\">\n",
       "  <thead>\n",
       "    <tr style=\"text-align: right;\">\n",
       "      <th></th>\n",
       "      <th>terminal</th>\n",
       "      <th>n_changepoints</th>\n",
       "      <th>mape_x</th>\n",
       "      <th>mape_y</th>\n",
       "    </tr>\n",
       "  </thead>\n",
       "  <tbody>\n",
       "    <tr>\n",
       "      <th>2</th>\n",
       "      <td>406136</td>\n",
       "      <td>2</td>\n",
       "      <td>0.160154</td>\n",
       "      <td>0.160154</td>\n",
       "    </tr>\n",
       "    <tr>\n",
       "      <th>7</th>\n",
       "      <td>406139</td>\n",
       "      <td>1</td>\n",
       "      <td>0.229066</td>\n",
       "      <td>0.229066</td>\n",
       "    </tr>\n",
       "    <tr>\n",
       "      <th>15</th>\n",
       "      <td>406145</td>\n",
       "      <td>3</td>\n",
       "      <td>0.151961</td>\n",
       "      <td>0.151961</td>\n",
       "    </tr>\n",
       "    <tr>\n",
       "      <th>18</th>\n",
       "      <td>406148</td>\n",
       "      <td>0</td>\n",
       "      <td>0.211151</td>\n",
       "      <td>0.211151</td>\n",
       "    </tr>\n",
       "    <tr>\n",
       "      <th>24</th>\n",
       "      <td>406180</td>\n",
       "      <td>0</td>\n",
       "      <td>0.233601</td>\n",
       "      <td>0.233601</td>\n",
       "    </tr>\n",
       "  </tbody>\n",
       "</table>\n",
       "</div>"
      ],
      "text/plain": [
       "    terminal  n_changepoints    mape_x    mape_y\n",
       "2     406136               2  0.160154  0.160154\n",
       "7     406139               1  0.229066  0.229066\n",
       "15    406145               3  0.151961  0.151961\n",
       "18    406148               0  0.211151  0.211151\n",
       "24    406180               0  0.233601  0.233601"
      ]
     },
     "execution_count": 17,
     "metadata": {},
     "output_type": "execute_result"
    }
   ],
   "source": [
    "#Выбираем n_changepoints с минимальным mape\n",
    "min_mape = df_res.groupby(by='terminal', as_index=False)[['mape']].min()\n",
    "df_res = df_res.merge(min_mape, how='left', on='terminal')\n",
    "df_res = df_res[df_res['mape_x'] == df_res['mape_y']]\n",
    "df_res.head()"
   ]
  },
  {
   "cell_type": "code",
   "execution_count": 18,
   "id": "0ed8da6e",
   "metadata": {
    "ExecuteTime": {
     "end_time": "2023-05-28T15:24:36.753522Z",
     "start_time": "2023-05-28T15:24:36.737478Z"
    }
   },
   "outputs": [
    {
     "data": {
      "text/html": [
       "<div>\n",
       "<style scoped>\n",
       "    .dataframe tbody tr th:only-of-type {\n",
       "        vertical-align: middle;\n",
       "    }\n",
       "\n",
       "    .dataframe tbody tr th {\n",
       "        vertical-align: top;\n",
       "    }\n",
       "\n",
       "    .dataframe thead th {\n",
       "        text-align: right;\n",
       "    }\n",
       "</style>\n",
       "<table border=\"1\" class=\"dataframe\">\n",
       "  <thead>\n",
       "    <tr style=\"text-align: right;\">\n",
       "      <th></th>\n",
       "      <th>terminal</th>\n",
       "      <th>n_changepoints</th>\n",
       "      <th>mape_x</th>\n",
       "      <th>mape_y</th>\n",
       "    </tr>\n",
       "  </thead>\n",
       "  <tbody>\n",
       "    <tr>\n",
       "      <th>0</th>\n",
       "      <td>629806</td>\n",
       "      <td>2</td>\n",
       "      <td>NaN</td>\n",
       "      <td>NaN</td>\n",
       "    </tr>\n",
       "    <tr>\n",
       "      <th>1</th>\n",
       "      <td>634736</td>\n",
       "      <td>2</td>\n",
       "      <td>NaN</td>\n",
       "      <td>NaN</td>\n",
       "    </tr>\n",
       "  </tbody>\n",
       "</table>\n",
       "</div>"
      ],
      "text/plain": [
       "   terminal  n_changepoints  mape_x  mape_y\n",
       "0    629806               2     NaN     NaN\n",
       "1    634736               2     NaN     NaN"
      ]
     },
     "execution_count": 18,
     "metadata": {},
     "output_type": "execute_result"
    }
   ],
   "source": [
    "#терминалы, на которые не получится посчитать mape, т.к в конце октября они были неактивны\n",
    "bad_terminals = pd.DataFrame({'terminal': [629806, 634736], 'n_changepoints': [2,2], \n",
    "              'mape_x':[np.nan, np.nan], 'mape_y':[np.nan, np.nan],})\n",
    "bad_terminals.head()"
   ]
  },
  {
   "cell_type": "code",
   "execution_count": 19,
   "id": "8ab349a9",
   "metadata": {
    "ExecuteTime": {
     "end_time": "2023-05-28T15:24:36.940033Z",
     "start_time": "2023-05-28T15:24:36.933960Z"
    }
   },
   "outputs": [],
   "source": [
    "df_res = pd.concat([df_res, bad_terminals]).reset_index(drop=True)"
   ]
  },
  {
   "cell_type": "code",
   "execution_count": 20,
   "id": "b4cdb9ae",
   "metadata": {
    "ExecuteTime": {
     "end_time": "2023-05-28T15:24:37.446471Z",
     "start_time": "2023-05-28T15:24:37.440711Z"
    }
   },
   "outputs": [
    {
     "name": "stdout",
     "output_type": "stream",
     "text": [
      "Ошибка на валидационной выборке (последние 14 дней октября)  23.891195393482644 %\n"
     ]
    }
   ],
   "source": [
    "print(f'Ошибка на валидационной выборке (последние 14 дней октября) ', df_res['mape_x'].mean()*100 , '%')"
   ]
  },
  {
   "cell_type": "code",
   "execution_count": 21,
   "id": "7002da9d",
   "metadata": {
    "ExecuteTime": {
     "end_time": "2023-05-28T15:24:37.664427Z",
     "start_time": "2023-05-28T15:24:37.598043Z"
    }
   },
   "outputs": [],
   "source": [
    "d_best_changepoints = df_res[['terminal', 'n_changepoints']].set_index('terminal').T.to_dict()"
   ]
  },
  {
   "cell_type": "markdown",
   "id": "a02fb4f1",
   "metadata": {},
   "source": [
    "## NeuralProphet Предсказание на все терминалы"
   ]
  },
  {
   "cell_type": "markdown",
   "id": "312256c1",
   "metadata": {},
   "source": [
    "*Обучение на 2х месяцах и предсказание на 3ий*"
   ]
  },
  {
   "cell_type": "code",
   "execution_count": null,
   "id": "08d3d4ef",
   "metadata": {
    "ExecuteTime": {
     "end_time": "2023-05-27T11:34:31.877429Z",
     "start_time": "2023-05-27T10:56:07.255120Z"
    }
   },
   "outputs": [],
   "source": [
    "%%time\n",
    "end_date = '2022-11-01'\n",
    "pd.DataFrame({'terminal':[], 'ds':[], 'yhat1':[]})\\\n",
    "    .to_csv('../data/processed/predictions.csv', mode='w', header=True, index=False)\n",
    "\n",
    "for terminal, d_changepoints in d_best_changepoints.items():\n",
    "\n",
    "    l_terminal, l_n_changepoints, l_mape = [], [], []\n",
    "    d_res = {'terminal':[], 'n_changepoints':[], 'mape':[]}\n",
    "        \n",
    "    model = NeuralProphet(\n",
    "            n_changepoints=int(d_changepoints['n_changepoints']), \n",
    "            changepoints_range = 0.75,\n",
    "            epochs = 100,\n",
    "            weekly_seasonality=True,\n",
    "            daily_seasonality=False,yearly_seasonality=False,);\n",
    "    set_random_seed(42)\n",
    "    set_log_level(\"CRITICAL\")\n",
    "\n",
    "    df_train = incomes_T[incomes_T.index<end_date][[terminal]]\\\n",
    "              .reset_index()\\\n",
    "              .rename(columns={'index':'ds', terminal:'y'})\n",
    "    model.fit(df_train);\n",
    "\n",
    "    future_dates = model.make_future_dataframe(df_train, n_historic_predictions=False, periods=30)\n",
    "    prediction = model.predict(future_dates)\n",
    "    prediction['terminal'] = terminal\n",
    "    \n",
    "    prediction[['terminal', 'ds', 'yhat1']].to_csv('../data/processed/predictions.csv', mode='a'\n",
    "                               , header=False, index=False)\n",
    "    "
   ]
  },
  {
   "cell_type": "code",
   "execution_count": 22,
   "id": "a92892ce",
   "metadata": {
    "ExecuteTime": {
     "end_time": "2023-05-28T15:24:45.311694Z",
     "start_time": "2023-05-28T15:24:45.164286Z"
    }
   },
   "outputs": [
    {
     "data": {
      "text/html": [
       "<div>\n",
       "<style scoped>\n",
       "    .dataframe tbody tr th:only-of-type {\n",
       "        vertical-align: middle;\n",
       "    }\n",
       "\n",
       "    .dataframe tbody tr th {\n",
       "        vertical-align: top;\n",
       "    }\n",
       "\n",
       "    .dataframe thead th {\n",
       "        text-align: right;\n",
       "    }\n",
       "</style>\n",
       "<table border=\"1\" class=\"dataframe\">\n",
       "  <thead>\n",
       "    <tr style=\"text-align: right;\">\n",
       "      <th></th>\n",
       "      <th>terminal</th>\n",
       "      <th>ds</th>\n",
       "      <th>yhat1</th>\n",
       "    </tr>\n",
       "  </thead>\n",
       "  <tbody>\n",
       "    <tr>\n",
       "      <th>0</th>\n",
       "      <td>406136</td>\n",
       "      <td>2022-11-01</td>\n",
       "      <td>92996.054688</td>\n",
       "    </tr>\n",
       "    <tr>\n",
       "      <th>1</th>\n",
       "      <td>406136</td>\n",
       "      <td>2022-11-02</td>\n",
       "      <td>93618.015625</td>\n",
       "    </tr>\n",
       "    <tr>\n",
       "      <th>2</th>\n",
       "      <td>406136</td>\n",
       "      <td>2022-11-03</td>\n",
       "      <td>69367.390625</td>\n",
       "    </tr>\n",
       "    <tr>\n",
       "      <th>3</th>\n",
       "      <td>406136</td>\n",
       "      <td>2022-11-04</td>\n",
       "      <td>106759.367188</td>\n",
       "    </tr>\n",
       "    <tr>\n",
       "      <th>4</th>\n",
       "      <td>406136</td>\n",
       "      <td>2022-11-05</td>\n",
       "      <td>103091.031250</td>\n",
       "    </tr>\n",
       "  </tbody>\n",
       "</table>\n",
       "</div>"
      ],
      "text/plain": [
       "   terminal          ds          yhat1\n",
       "0    406136  2022-11-01   92996.054688\n",
       "1    406136  2022-11-02   93618.015625\n",
       "2    406136  2022-11-03   69367.390625\n",
       "3    406136  2022-11-04  106759.367188\n",
       "4    406136  2022-11-05  103091.031250"
      ]
     },
     "execution_count": 22,
     "metadata": {},
     "output_type": "execute_result"
    }
   ],
   "source": [
    "df_predictions = pd.read_csv('../data/processed/predictions.csv', header=0) \n",
    "df_predictions.loc[df_predictions['yhat1']<0, 'yhat1'] = 0\n",
    "df_predictions.to_csv('../data/processed/predictions_correct.csv', header=True, index=False)\n",
    "df_predictions.head()"
   ]
  },
  {
   "cell_type": "code",
   "execution_count": 23,
   "id": "c1e85ee6",
   "metadata": {
    "ExecuteTime": {
     "end_time": "2023-05-28T15:24:45.712760Z",
     "start_time": "2023-05-28T15:24:45.705399Z"
    }
   },
   "outputs": [
    {
     "data": {
      "text/plain": [
       "(1630,)"
      ]
     },
     "execution_count": 23,
     "metadata": {},
     "output_type": "execute_result"
    }
   ],
   "source": [
    "df_predictions['terminal'].drop_duplicates().shape"
   ]
  },
  {
   "cell_type": "code",
   "execution_count": 24,
   "id": "b699040d",
   "metadata": {
    "ExecuteTime": {
     "end_time": "2023-05-28T15:24:46.223781Z",
     "start_time": "2023-05-28T15:24:46.166426Z"
    }
   },
   "outputs": [
    {
     "data": {
      "text/html": [
       "<div>\n",
       "<style scoped>\n",
       "    .dataframe tbody tr th:only-of-type {\n",
       "        vertical-align: middle;\n",
       "    }\n",
       "\n",
       "    .dataframe tbody tr th {\n",
       "        vertical-align: top;\n",
       "    }\n",
       "\n",
       "    .dataframe thead th {\n",
       "        text-align: right;\n",
       "    }\n",
       "</style>\n",
       "<table border=\"1\" class=\"dataframe\">\n",
       "  <thead>\n",
       "    <tr style=\"text-align: right;\">\n",
       "      <th>ds</th>\n",
       "      <th>2022-11-01</th>\n",
       "      <th>2022-11-02</th>\n",
       "      <th>2022-11-03</th>\n",
       "      <th>2022-11-04</th>\n",
       "      <th>2022-11-05</th>\n",
       "      <th>2022-11-06</th>\n",
       "      <th>2022-11-07</th>\n",
       "      <th>2022-11-08</th>\n",
       "      <th>2022-11-09</th>\n",
       "      <th>2022-11-10</th>\n",
       "      <th>...</th>\n",
       "      <th>2022-11-21</th>\n",
       "      <th>2022-11-22</th>\n",
       "      <th>2022-11-23</th>\n",
       "      <th>2022-11-24</th>\n",
       "      <th>2022-11-25</th>\n",
       "      <th>2022-11-26</th>\n",
       "      <th>2022-11-27</th>\n",
       "      <th>2022-11-28</th>\n",
       "      <th>2022-11-29</th>\n",
       "      <th>2022-11-30</th>\n",
       "    </tr>\n",
       "    <tr>\n",
       "      <th>terminal</th>\n",
       "      <th></th>\n",
       "      <th></th>\n",
       "      <th></th>\n",
       "      <th></th>\n",
       "      <th></th>\n",
       "      <th></th>\n",
       "      <th></th>\n",
       "      <th></th>\n",
       "      <th></th>\n",
       "      <th></th>\n",
       "      <th></th>\n",
       "      <th></th>\n",
       "      <th></th>\n",
       "      <th></th>\n",
       "      <th></th>\n",
       "      <th></th>\n",
       "      <th></th>\n",
       "      <th></th>\n",
       "      <th></th>\n",
       "      <th></th>\n",
       "      <th></th>\n",
       "    </tr>\n",
       "  </thead>\n",
       "  <tbody>\n",
       "    <tr>\n",
       "      <th>406136</th>\n",
       "      <td>92996.054688</td>\n",
       "      <td>93618.015625</td>\n",
       "      <td>69367.390625</td>\n",
       "      <td>106759.367188</td>\n",
       "      <td>103091.031250</td>\n",
       "      <td>115568.171875</td>\n",
       "      <td>76665.265625</td>\n",
       "      <td>92665.390625</td>\n",
       "      <td>93287.335938</td>\n",
       "      <td>69036.718750</td>\n",
       "      <td>...</td>\n",
       "      <td>76003.906250</td>\n",
       "      <td>92004.046875</td>\n",
       "      <td>92625.992188</td>\n",
       "      <td>68375.367188</td>\n",
       "      <td>105767.343750</td>\n",
       "      <td>102099.007812</td>\n",
       "      <td>114576.156250</td>\n",
       "      <td>75673.242188</td>\n",
       "      <td>91673.367188</td>\n",
       "      <td>92295.312500</td>\n",
       "    </tr>\n",
       "    <tr>\n",
       "      <th>406139</th>\n",
       "      <td>101205.078125</td>\n",
       "      <td>193767.031250</td>\n",
       "      <td>135787.140625</td>\n",
       "      <td>174668.265625</td>\n",
       "      <td>159080.687500</td>\n",
       "      <td>135718.093750</td>\n",
       "      <td>136037.453125</td>\n",
       "      <td>98160.750000</td>\n",
       "      <td>190722.703125</td>\n",
       "      <td>132742.796875</td>\n",
       "      <td>...</td>\n",
       "      <td>129948.781250</td>\n",
       "      <td>92072.085938</td>\n",
       "      <td>184634.015625</td>\n",
       "      <td>126654.132812</td>\n",
       "      <td>165535.265625</td>\n",
       "      <td>149947.687500</td>\n",
       "      <td>126585.070312</td>\n",
       "      <td>126904.445312</td>\n",
       "      <td>89027.750000</td>\n",
       "      <td>181589.671875</td>\n",
       "    </tr>\n",
       "    <tr>\n",
       "      <th>406145</th>\n",
       "      <td>155808.500000</td>\n",
       "      <td>128303.257812</td>\n",
       "      <td>133807.468750</td>\n",
       "      <td>99783.242188</td>\n",
       "      <td>113430.828125</td>\n",
       "      <td>130733.492188</td>\n",
       "      <td>98310.289062</td>\n",
       "      <td>152015.750000</td>\n",
       "      <td>124510.492188</td>\n",
       "      <td>130014.695312</td>\n",
       "      <td>...</td>\n",
       "      <td>90724.757812</td>\n",
       "      <td>144430.218750</td>\n",
       "      <td>116924.968750</td>\n",
       "      <td>122429.164062</td>\n",
       "      <td>88404.953125</td>\n",
       "      <td>102052.539062</td>\n",
       "      <td>119355.187500</td>\n",
       "      <td>86931.992188</td>\n",
       "      <td>140637.453125</td>\n",
       "      <td>113132.203125</td>\n",
       "    </tr>\n",
       "    <tr>\n",
       "      <th>406148</th>\n",
       "      <td>79163.781250</td>\n",
       "      <td>68157.328125</td>\n",
       "      <td>63485.785156</td>\n",
       "      <td>64836.824219</td>\n",
       "      <td>78779.570312</td>\n",
       "      <td>58951.886719</td>\n",
       "      <td>57120.714844</td>\n",
       "      <td>79266.757812</td>\n",
       "      <td>68260.296875</td>\n",
       "      <td>63588.750000</td>\n",
       "      <td>...</td>\n",
       "      <td>57326.656250</td>\n",
       "      <td>79472.695312</td>\n",
       "      <td>68466.242188</td>\n",
       "      <td>63794.687500</td>\n",
       "      <td>65145.730469</td>\n",
       "      <td>79088.476562</td>\n",
       "      <td>59260.789062</td>\n",
       "      <td>57429.625000</td>\n",
       "      <td>79575.664062</td>\n",
       "      <td>68569.210938</td>\n",
       "    </tr>\n",
       "    <tr>\n",
       "      <th>406180</th>\n",
       "      <td>84681.898438</td>\n",
       "      <td>71381.546875</td>\n",
       "      <td>101369.656250</td>\n",
       "      <td>93711.757812</td>\n",
       "      <td>77114.031250</td>\n",
       "      <td>78070.078125</td>\n",
       "      <td>70443.382812</td>\n",
       "      <td>85998.578125</td>\n",
       "      <td>72698.226562</td>\n",
       "      <td>102686.335938</td>\n",
       "      <td>...</td>\n",
       "      <td>73076.734375</td>\n",
       "      <td>88631.937500</td>\n",
       "      <td>75331.585938</td>\n",
       "      <td>105319.687500</td>\n",
       "      <td>97661.804688</td>\n",
       "      <td>81064.078125</td>\n",
       "      <td>82020.117188</td>\n",
       "      <td>74393.414062</td>\n",
       "      <td>89948.617188</td>\n",
       "      <td>76648.265625</td>\n",
       "    </tr>\n",
       "  </tbody>\n",
       "</table>\n",
       "<p>5 rows × 30 columns</p>\n",
       "</div>"
      ],
      "text/plain": [
       "ds           2022-11-01     2022-11-02     2022-11-03     2022-11-04  \\\n",
       "terminal                                                               \n",
       "406136     92996.054688   93618.015625   69367.390625  106759.367188   \n",
       "406139    101205.078125  193767.031250  135787.140625  174668.265625   \n",
       "406145    155808.500000  128303.257812  133807.468750   99783.242188   \n",
       "406148     79163.781250   68157.328125   63485.785156   64836.824219   \n",
       "406180     84681.898438   71381.546875  101369.656250   93711.757812   \n",
       "\n",
       "ds           2022-11-05     2022-11-06     2022-11-07     2022-11-08  \\\n",
       "terminal                                                               \n",
       "406136    103091.031250  115568.171875   76665.265625   92665.390625   \n",
       "406139    159080.687500  135718.093750  136037.453125   98160.750000   \n",
       "406145    113430.828125  130733.492188   98310.289062  152015.750000   \n",
       "406148     78779.570312   58951.886719   57120.714844   79266.757812   \n",
       "406180     77114.031250   78070.078125   70443.382812   85998.578125   \n",
       "\n",
       "ds           2022-11-09     2022-11-10  ...     2022-11-21     2022-11-22  \\\n",
       "terminal                                ...                                 \n",
       "406136     93287.335938   69036.718750  ...   76003.906250   92004.046875   \n",
       "406139    190722.703125  132742.796875  ...  129948.781250   92072.085938   \n",
       "406145    124510.492188  130014.695312  ...   90724.757812  144430.218750   \n",
       "406148     68260.296875   63588.750000  ...   57326.656250   79472.695312   \n",
       "406180     72698.226562  102686.335938  ...   73076.734375   88631.937500   \n",
       "\n",
       "ds           2022-11-23     2022-11-24     2022-11-25     2022-11-26  \\\n",
       "terminal                                                               \n",
       "406136     92625.992188   68375.367188  105767.343750  102099.007812   \n",
       "406139    184634.015625  126654.132812  165535.265625  149947.687500   \n",
       "406145    116924.968750  122429.164062   88404.953125  102052.539062   \n",
       "406148     68466.242188   63794.687500   65145.730469   79088.476562   \n",
       "406180     75331.585938  105319.687500   97661.804688   81064.078125   \n",
       "\n",
       "ds           2022-11-27     2022-11-28     2022-11-29     2022-11-30  \n",
       "terminal                                                              \n",
       "406136    114576.156250   75673.242188   91673.367188   92295.312500  \n",
       "406139    126585.070312  126904.445312   89027.750000  181589.671875  \n",
       "406145    119355.187500   86931.992188  140637.453125  113132.203125  \n",
       "406148     59260.789062   57429.625000   79575.664062   68569.210938  \n",
       "406180     82020.117188   74393.414062   89948.617188   76648.265625  \n",
       "\n",
       "[5 rows x 30 columns]"
      ]
     },
     "execution_count": 24,
     "metadata": {},
     "output_type": "execute_result"
    }
   ],
   "source": [
    "#Как можно отдавать результат\n",
    "pd.pivot_table(df_predictions, index='terminal', columns='ds', values='yhat1').head()"
   ]
  },
  {
   "cell_type": "code",
   "execution_count": 25,
   "id": "74ad7d86",
   "metadata": {
    "ExecuteTime": {
     "end_time": "2023-05-28T15:24:46.556447Z",
     "start_time": "2023-05-28T15:24:46.437708Z"
    },
    "scrolled": true
   },
   "outputs": [
    {
     "data": {
      "text/html": [
       "<div>\n",
       "<style scoped>\n",
       "    .dataframe tbody tr th:only-of-type {\n",
       "        vertical-align: middle;\n",
       "    }\n",
       "\n",
       "    .dataframe tbody tr th {\n",
       "        vertical-align: top;\n",
       "    }\n",
       "\n",
       "    .dataframe thead th {\n",
       "        text-align: right;\n",
       "    }\n",
       "</style>\n",
       "<table border=\"1\" class=\"dataframe\">\n",
       "  <thead>\n",
       "    <tr style=\"text-align: right;\">\n",
       "      <th></th>\n",
       "      <th>ds</th>\n",
       "      <th>terminal</th>\n",
       "      <th>ytrue</th>\n",
       "    </tr>\n",
       "  </thead>\n",
       "  <tbody>\n",
       "    <tr>\n",
       "      <th>0</th>\n",
       "      <td>2022-09-01</td>\n",
       "      <td>406136</td>\n",
       "      <td>90000</td>\n",
       "    </tr>\n",
       "    <tr>\n",
       "      <th>1</th>\n",
       "      <td>2022-09-02</td>\n",
       "      <td>406136</td>\n",
       "      <td>105000</td>\n",
       "    </tr>\n",
       "    <tr>\n",
       "      <th>2</th>\n",
       "      <td>2022-09-03</td>\n",
       "      <td>406136</td>\n",
       "      <td>99000</td>\n",
       "    </tr>\n",
       "    <tr>\n",
       "      <th>3</th>\n",
       "      <td>2022-09-04</td>\n",
       "      <td>406136</td>\n",
       "      <td>107000</td>\n",
       "    </tr>\n",
       "    <tr>\n",
       "      <th>4</th>\n",
       "      <td>2022-09-05</td>\n",
       "      <td>406136</td>\n",
       "      <td>110000</td>\n",
       "    </tr>\n",
       "  </tbody>\n",
       "</table>\n",
       "</div>"
      ],
      "text/plain": [
       "           ds terminal   ytrue\n",
       "0  2022-09-01   406136   90000\n",
       "1  2022-09-02   406136  105000\n",
       "2  2022-09-03   406136   99000\n",
       "3  2022-09-04   406136  107000\n",
       "4  2022-09-05   406136  110000"
      ]
     },
     "execution_count": 25,
     "metadata": {},
     "output_type": "execute_result"
    }
   ],
   "source": [
    "df_true = pd.melt(incomes_T.reset_index(), id_vars=['index'], \n",
    "        value_vars=incomes_T.columns.tolist())\\\n",
    "        .rename(columns={'index': 'ds', 'TID': 'terminal', 'value': 'ytrue'})\n",
    "df_true['ds'] = df_true['ds'].astype(str)\n",
    "df_true.head()"
   ]
  },
  {
   "cell_type": "code",
   "execution_count": 26,
   "id": "75b0f00b",
   "metadata": {
    "ExecuteTime": {
     "end_time": "2023-05-28T15:24:47.010305Z",
     "start_time": "2023-05-28T15:24:46.914194Z"
    }
   },
   "outputs": [
    {
     "data": {
      "text/html": [
       "<div>\n",
       "<style scoped>\n",
       "    .dataframe tbody tr th:only-of-type {\n",
       "        vertical-align: middle;\n",
       "    }\n",
       "\n",
       "    .dataframe tbody tr th {\n",
       "        vertical-align: top;\n",
       "    }\n",
       "\n",
       "    .dataframe thead th {\n",
       "        text-align: right;\n",
       "    }\n",
       "</style>\n",
       "<table border=\"1\" class=\"dataframe\">\n",
       "  <thead>\n",
       "    <tr style=\"text-align: right;\">\n",
       "      <th></th>\n",
       "      <th>terminal</th>\n",
       "      <th>ds</th>\n",
       "      <th>ypred</th>\n",
       "      <th>ytrue</th>\n",
       "      <th>residuals</th>\n",
       "    </tr>\n",
       "  </thead>\n",
       "  <tbody>\n",
       "    <tr>\n",
       "      <th>0</th>\n",
       "      <td>406136</td>\n",
       "      <td>2022-11-01</td>\n",
       "      <td>92996.054688</td>\n",
       "      <td>73000</td>\n",
       "      <td>-19996.054688</td>\n",
       "    </tr>\n",
       "    <tr>\n",
       "      <th>1</th>\n",
       "      <td>406136</td>\n",
       "      <td>2022-11-02</td>\n",
       "      <td>93618.015625</td>\n",
       "      <td>84000</td>\n",
       "      <td>-9618.015625</td>\n",
       "    </tr>\n",
       "  </tbody>\n",
       "</table>\n",
       "</div>"
      ],
      "text/plain": [
       "  terminal          ds         ypred  ytrue     residuals\n",
       "0   406136  2022-11-01  92996.054688  73000 -19996.054688\n",
       "1   406136  2022-11-02  93618.015625  84000  -9618.015625"
      ]
     },
     "execution_count": 26,
     "metadata": {},
     "output_type": "execute_result"
    }
   ],
   "source": [
    "for_metrics = df_predictions.rename(columns={'yhat1': 'ypred'})\\\n",
    "            .merge(df_true, how='left', on = ['terminal', 'ds'])\n",
    "for_metrics['residuals'] = for_metrics['ytrue'] - for_metrics['ypred']\n",
    "for_metrics.head(2)"
   ]
  },
  {
   "cell_type": "code",
   "execution_count": 27,
   "id": "e299c7a7",
   "metadata": {
    "ExecuteTime": {
     "end_time": "2023-05-28T15:24:47.361393Z",
     "start_time": "2023-05-28T15:24:47.342065Z"
    }
   },
   "outputs": [
    {
     "name": "stdout",
     "output_type": "stream",
     "text": [
      "55166.99386503067\n",
      "MAE =  14475.999472780793  %mean =  26.24032679430963\n",
      "MAPE =  25.970726788927756\n",
      "RMSE =  28215.170101961878  %mean =  51.14502010204139\n"
     ]
    }
   ],
   "source": [
    "calc_metrics(for_metrics)"
   ]
  },
  {
   "cell_type": "code",
   "execution_count": null,
   "id": "db2e12d1",
   "metadata": {},
   "outputs": [],
   "source": []
  },
  {
   "cell_type": "code",
   "execution_count": null,
   "id": "9e16a0ce",
   "metadata": {},
   "outputs": [],
   "source": []
  },
  {
   "cell_type": "code",
   "execution_count": null,
   "id": "1e57173f",
   "metadata": {},
   "outputs": [],
   "source": []
  },
  {
   "cell_type": "code",
   "execution_count": null,
   "id": "c219d9a6",
   "metadata": {},
   "outputs": [],
   "source": []
  },
  {
   "cell_type": "code",
   "execution_count": null,
   "id": "ce72a671",
   "metadata": {},
   "outputs": [],
   "source": []
  }
 ],
 "metadata": {
  "kernelspec": {
   "display_name": "lct23",
   "language": "python",
   "name": "lct23"
  },
  "language_info": {
   "codemirror_mode": {
    "name": "ipython",
    "version": 3
   },
   "file_extension": ".py",
   "mimetype": "text/x-python",
   "name": "python",
   "nbconvert_exporter": "python",
   "pygments_lexer": "ipython3",
   "version": "3.10.11"
  }
 },
 "nbformat": 4,
 "nbformat_minor": 5
}
